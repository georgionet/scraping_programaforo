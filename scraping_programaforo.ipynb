import requests
from bs4 import BeautifulSoup


url = 'https://forum.gs1.org/programme'

respuesta = requests.get(url)
soup = BeautifulSoup(respuesta.text,"html.parser")

def tiene_clase(elemento):
    return elemento.has_attr('class') and ('col-md-10' in elemento['class']) and ('offset-md-2' in elemento['class']) and ('mt-spacer-2' in elemento['class']) and ('padding-special' in elemento['class']) and ('color-white' in elemento['class']) and ('align-self-center' in elemento['class']) #and (('bg-slate' in elemento['class']) or ('bg-gold' in elemento['class']))

# Encuentra todos los elementos que cumplen con la condición
#items = soup.find_all(tiene_clase)
tems = soup.find_all("div", {'class':'row pb-spacer-2'})
#row pb-spacer-2



for i in tems:
    if len(i.find("p").text)>1:
      print(i.find("p").text)
    if len(i.find("p", {'class':'color-blue body-little'}).text)>1:
      print (i.find("p", {'class':'color-blue body-little'}).text)
    if len(i.find("p", {'class':'body-tiny mb-0'}).text)>1:
      print ("*** "+i.find("p", {'class':'body-tiny mb-0'}).text)
    p = i.find_all("p", {'class':'body-little pr-spacer-3'})
    for j in p:
      print(j.text)

#color-blue body-little
#body-little pr-spacer-3
